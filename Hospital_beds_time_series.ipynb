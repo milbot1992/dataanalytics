{
  "nbformat": 4,
  "nbformat_minor": 0,
  "metadata": {
    "colab": {
      "provenance": []
    },
    "kernelspec": {
      "name": "python3",
      "display_name": "Python 3"
    },
    "language_info": {
      "name": "python"
    }
  },
  "cells": [
    {
      "cell_type": "markdown",
      "source": [
        "##**Hospital Beds in England Over Time**\n",
        "\n",
        "####**Loading in the datasets and data overview**"
      ],
      "metadata": {
        "id": "4VJlWVbC9IXr"
      }
    },
    {
      "cell_type": "code",
      "source": [
        "# import pandas lib as pd\n",
        "import pandas as pd\n",
        "\n",
        "# read by default 1st sheet of an excel file\n",
        "df1 = pd.read_excel('/content/Beds-Timeseries-1987-88-to-2009-10.xls')\n",
        "df2 = pd.read_excel('/content/Beds-Timeseries-2010-11-to-2020-21.xls')"
      ],
      "metadata": {
        "id": "poDreNy39iGm"
      },
      "execution_count": 89,
      "outputs": []
    },
    {
      "cell_type": "markdown",
      "source": [
        "####**Dataset Description / Overview**\n",
        "\n",
        "***Dataframe 1***"
      ],
      "metadata": {
        "id": "O8Gn51qX_Wus"
      }
    },
    {
      "cell_type": "code",
      "source": [
        "#df1.shape\n",
        "\n",
        "#df1.info()\n",
        "\n",
        "#df1.describe()\n",
        "\n",
        "df1.head()"
      ],
      "metadata": {
        "colab": {
          "base_uri": "https://localhost:8080/",
          "height": 357
        },
        "id": "y2rS1ut0DqSV",
        "outputId": "85748e75-2a91-487d-ec5d-988695a06fe3"
      },
      "execution_count": 90,
      "outputs": [
        {
          "output_type": "execute_result",
          "data": {
            "text/plain": [
              "      Year Day_or_night          Total  General_and_Acute          Acute  \\\n",
              "0  1987-88    Overnight  297364.000000      180889.000000  127616.000000   \n",
              "1  1988-89    Overnight  282918.000000      174491.000000  123450.000000   \n",
              "2  1989-90    Overnight  270300.897715      169901.126107  121169.770302   \n",
              "3  1990-91    Overnight  255478.975342      162690.632877  116788.380822   \n",
              "4  1991-92    Overnight  242676.850000      157246.670000  115139.680000   \n",
              "\n",
              "      Geriatric  Mental_Illness  Learning_Disabilities     Maternity  \n",
              "0  53273.000000    67122.000000           33421.000000  15932.000000  \n",
              "1  51041.000000    63012.000000           30048.000000  15367.000000  \n",
              "2  48731.355805    59287.835410           26406.201809  14705.734389  \n",
              "3  45902.252055    55238.961644           23379.372603  14170.008219  \n",
              "4  42106.990000    50277.640000           21382.500000  13770.040000  "
            ],
            "text/html": [
              "\n",
              "  <div id=\"df-28e51c77-bbb1-422e-9f29-8cb54d6ce4e6\">\n",
              "    <div class=\"colab-df-container\">\n",
              "      <div>\n",
              "<style scoped>\n",
              "    .dataframe tbody tr th:only-of-type {\n",
              "        vertical-align: middle;\n",
              "    }\n",
              "\n",
              "    .dataframe tbody tr th {\n",
              "        vertical-align: top;\n",
              "    }\n",
              "\n",
              "    .dataframe thead th {\n",
              "        text-align: right;\n",
              "    }\n",
              "</style>\n",
              "<table border=\"1\" class=\"dataframe\">\n",
              "  <thead>\n",
              "    <tr style=\"text-align: right;\">\n",
              "      <th></th>\n",
              "      <th>Year</th>\n",
              "      <th>Day_or_night</th>\n",
              "      <th>Total</th>\n",
              "      <th>General_and_Acute</th>\n",
              "      <th>Acute</th>\n",
              "      <th>Geriatric</th>\n",
              "      <th>Mental_Illness</th>\n",
              "      <th>Learning_Disabilities</th>\n",
              "      <th>Maternity</th>\n",
              "    </tr>\n",
              "  </thead>\n",
              "  <tbody>\n",
              "    <tr>\n",
              "      <th>0</th>\n",
              "      <td>1987-88</td>\n",
              "      <td>Overnight</td>\n",
              "      <td>297364.000000</td>\n",
              "      <td>180889.000000</td>\n",
              "      <td>127616.000000</td>\n",
              "      <td>53273.000000</td>\n",
              "      <td>67122.000000</td>\n",
              "      <td>33421.000000</td>\n",
              "      <td>15932.000000</td>\n",
              "    </tr>\n",
              "    <tr>\n",
              "      <th>1</th>\n",
              "      <td>1988-89</td>\n",
              "      <td>Overnight</td>\n",
              "      <td>282918.000000</td>\n",
              "      <td>174491.000000</td>\n",
              "      <td>123450.000000</td>\n",
              "      <td>51041.000000</td>\n",
              "      <td>63012.000000</td>\n",
              "      <td>30048.000000</td>\n",
              "      <td>15367.000000</td>\n",
              "    </tr>\n",
              "    <tr>\n",
              "      <th>2</th>\n",
              "      <td>1989-90</td>\n",
              "      <td>Overnight</td>\n",
              "      <td>270300.897715</td>\n",
              "      <td>169901.126107</td>\n",
              "      <td>121169.770302</td>\n",
              "      <td>48731.355805</td>\n",
              "      <td>59287.835410</td>\n",
              "      <td>26406.201809</td>\n",
              "      <td>14705.734389</td>\n",
              "    </tr>\n",
              "    <tr>\n",
              "      <th>3</th>\n",
              "      <td>1990-91</td>\n",
              "      <td>Overnight</td>\n",
              "      <td>255478.975342</td>\n",
              "      <td>162690.632877</td>\n",
              "      <td>116788.380822</td>\n",
              "      <td>45902.252055</td>\n",
              "      <td>55238.961644</td>\n",
              "      <td>23379.372603</td>\n",
              "      <td>14170.008219</td>\n",
              "    </tr>\n",
              "    <tr>\n",
              "      <th>4</th>\n",
              "      <td>1991-92</td>\n",
              "      <td>Overnight</td>\n",
              "      <td>242676.850000</td>\n",
              "      <td>157246.670000</td>\n",
              "      <td>115139.680000</td>\n",
              "      <td>42106.990000</td>\n",
              "      <td>50277.640000</td>\n",
              "      <td>21382.500000</td>\n",
              "      <td>13770.040000</td>\n",
              "    </tr>\n",
              "  </tbody>\n",
              "</table>\n",
              "</div>\n",
              "      <button class=\"colab-df-convert\" onclick=\"convertToInteractive('df-28e51c77-bbb1-422e-9f29-8cb54d6ce4e6')\"\n",
              "              title=\"Convert this dataframe to an interactive table.\"\n",
              "              style=\"display:none;\">\n",
              "        \n",
              "  <svg xmlns=\"http://www.w3.org/2000/svg\" height=\"24px\"viewBox=\"0 0 24 24\"\n",
              "       width=\"24px\">\n",
              "    <path d=\"M0 0h24v24H0V0z\" fill=\"none\"/>\n",
              "    <path d=\"M18.56 5.44l.94 2.06.94-2.06 2.06-.94-2.06-.94-.94-2.06-.94 2.06-2.06.94zm-11 1L8.5 8.5l.94-2.06 2.06-.94-2.06-.94L8.5 2.5l-.94 2.06-2.06.94zm10 10l.94 2.06.94-2.06 2.06-.94-2.06-.94-.94-2.06-.94 2.06-2.06.94z\"/><path d=\"M17.41 7.96l-1.37-1.37c-.4-.4-.92-.59-1.43-.59-.52 0-1.04.2-1.43.59L10.3 9.45l-7.72 7.72c-.78.78-.78 2.05 0 2.83L4 21.41c.39.39.9.59 1.41.59.51 0 1.02-.2 1.41-.59l7.78-7.78 2.81-2.81c.8-.78.8-2.07 0-2.86zM5.41 20L4 18.59l7.72-7.72 1.47 1.35L5.41 20z\"/>\n",
              "  </svg>\n",
              "      </button>\n",
              "      \n",
              "  <style>\n",
              "    .colab-df-container {\n",
              "      display:flex;\n",
              "      flex-wrap:wrap;\n",
              "      gap: 12px;\n",
              "    }\n",
              "\n",
              "    .colab-df-convert {\n",
              "      background-color: #E8F0FE;\n",
              "      border: none;\n",
              "      border-radius: 50%;\n",
              "      cursor: pointer;\n",
              "      display: none;\n",
              "      fill: #1967D2;\n",
              "      height: 32px;\n",
              "      padding: 0 0 0 0;\n",
              "      width: 32px;\n",
              "    }\n",
              "\n",
              "    .colab-df-convert:hover {\n",
              "      background-color: #E2EBFA;\n",
              "      box-shadow: 0px 1px 2px rgba(60, 64, 67, 0.3), 0px 1px 3px 1px rgba(60, 64, 67, 0.15);\n",
              "      fill: #174EA6;\n",
              "    }\n",
              "\n",
              "    [theme=dark] .colab-df-convert {\n",
              "      background-color: #3B4455;\n",
              "      fill: #D2E3FC;\n",
              "    }\n",
              "\n",
              "    [theme=dark] .colab-df-convert:hover {\n",
              "      background-color: #434B5C;\n",
              "      box-shadow: 0px 1px 3px 1px rgba(0, 0, 0, 0.15);\n",
              "      filter: drop-shadow(0px 1px 2px rgba(0, 0, 0, 0.3));\n",
              "      fill: #FFFFFF;\n",
              "    }\n",
              "  </style>\n",
              "\n",
              "      <script>\n",
              "        const buttonEl =\n",
              "          document.querySelector('#df-28e51c77-bbb1-422e-9f29-8cb54d6ce4e6 button.colab-df-convert');\n",
              "        buttonEl.style.display =\n",
              "          google.colab.kernel.accessAllowed ? 'block' : 'none';\n",
              "\n",
              "        async function convertToInteractive(key) {\n",
              "          const element = document.querySelector('#df-28e51c77-bbb1-422e-9f29-8cb54d6ce4e6');\n",
              "          const dataTable =\n",
              "            await google.colab.kernel.invokeFunction('convertToInteractive',\n",
              "                                                     [key], {});\n",
              "          if (!dataTable) return;\n",
              "\n",
              "          const docLinkHtml = 'Like what you see? Visit the ' +\n",
              "            '<a target=\"_blank\" href=https://colab.research.google.com/notebooks/data_table.ipynb>data table notebook</a>'\n",
              "            + ' to learn more about interactive tables.';\n",
              "          element.innerHTML = '';\n",
              "          dataTable['output_type'] = 'display_data';\n",
              "          await google.colab.output.renderOutput(dataTable, element);\n",
              "          const docLink = document.createElement('div');\n",
              "          docLink.innerHTML = docLinkHtml;\n",
              "          element.appendChild(docLink);\n",
              "        }\n",
              "      </script>\n",
              "    </div>\n",
              "  </div>\n",
              "  "
            ]
          },
          "metadata": {},
          "execution_count": 90
        }
      ]
    },
    {
      "cell_type": "markdown",
      "source": [
        "***Dataframe 2***"
      ],
      "metadata": {
        "id": "hTsGlCdA_pmU"
      }
    },
    {
      "cell_type": "code",
      "source": [
        "#df2.shape\n",
        "\n",
        "#df2.info()\n",
        "\n",
        "#df2.describe()\n",
        "\n",
        "df2.head()"
      ],
      "metadata": {
        "id": "O9S3NGM6D0e-",
        "colab": {
          "base_uri": "https://localhost:8080/",
          "height": 287
        },
        "outputId": "f2cb291f-be2a-499e-d408-2a03d613aea8"
      },
      "execution_count": 91,
      "outputs": [
        {
          "output_type": "execute_result",
          "data": {
            "text/plain": [
              "      Year Day_or_night Period        Total   General_and_Acute  \\\n",
              "0  2010/11          Day     Q1  11783.438462       11571.607692   \n",
              "1  2010/11          Day     Q2  10989.728261       10888.097826   \n",
              "2  2010/11          Day     Q3  10915.641304       10785.217391   \n",
              "3  2010/11          Day     Q4  11328.444444       11223.500000   \n",
              "4  2011/12          Day     Q1  10692.483516       10588.923077   \n",
              "\n",
              "   Learning_Disabilities   Maternity  Mental_Illness Unnamed: 8 Unnamed: 9  \n",
              "0                    0.0  208.973626        2.857143    2010/11         Q1  \n",
              "1                    0.0   98.695652        2.934783        NaN         Q2  \n",
              "2                    0.0  127.173913        3.250000        NaN         Q3  \n",
              "3                    0.0  101.944444        3.000000        NaN         Q4  \n",
              "4                    0.0  100.417582        3.142857    2011/12         Q1  "
            ],
            "text/html": [
              "\n",
              "  <div id=\"df-1ad144ee-ee6d-40bb-8bff-8e73812d2ea4\">\n",
              "    <div class=\"colab-df-container\">\n",
              "      <div>\n",
              "<style scoped>\n",
              "    .dataframe tbody tr th:only-of-type {\n",
              "        vertical-align: middle;\n",
              "    }\n",
              "\n",
              "    .dataframe tbody tr th {\n",
              "        vertical-align: top;\n",
              "    }\n",
              "\n",
              "    .dataframe thead th {\n",
              "        text-align: right;\n",
              "    }\n",
              "</style>\n",
              "<table border=\"1\" class=\"dataframe\">\n",
              "  <thead>\n",
              "    <tr style=\"text-align: right;\">\n",
              "      <th></th>\n",
              "      <th>Year</th>\n",
              "      <th>Day_or_night</th>\n",
              "      <th>Period</th>\n",
              "      <th>Total</th>\n",
              "      <th>General_and_Acute</th>\n",
              "      <th>Learning_Disabilities</th>\n",
              "      <th>Maternity</th>\n",
              "      <th>Mental_Illness</th>\n",
              "      <th>Unnamed: 8</th>\n",
              "      <th>Unnamed: 9</th>\n",
              "    </tr>\n",
              "  </thead>\n",
              "  <tbody>\n",
              "    <tr>\n",
              "      <th>0</th>\n",
              "      <td>2010/11</td>\n",
              "      <td>Day</td>\n",
              "      <td>Q1</td>\n",
              "      <td>11783.438462</td>\n",
              "      <td>11571.607692</td>\n",
              "      <td>0.0</td>\n",
              "      <td>208.973626</td>\n",
              "      <td>2.857143</td>\n",
              "      <td>2010/11</td>\n",
              "      <td>Q1</td>\n",
              "    </tr>\n",
              "    <tr>\n",
              "      <th>1</th>\n",
              "      <td>2010/11</td>\n",
              "      <td>Day</td>\n",
              "      <td>Q2</td>\n",
              "      <td>10989.728261</td>\n",
              "      <td>10888.097826</td>\n",
              "      <td>0.0</td>\n",
              "      <td>98.695652</td>\n",
              "      <td>2.934783</td>\n",
              "      <td>NaN</td>\n",
              "      <td>Q2</td>\n",
              "    </tr>\n",
              "    <tr>\n",
              "      <th>2</th>\n",
              "      <td>2010/11</td>\n",
              "      <td>Day</td>\n",
              "      <td>Q3</td>\n",
              "      <td>10915.641304</td>\n",
              "      <td>10785.217391</td>\n",
              "      <td>0.0</td>\n",
              "      <td>127.173913</td>\n",
              "      <td>3.250000</td>\n",
              "      <td>NaN</td>\n",
              "      <td>Q3</td>\n",
              "    </tr>\n",
              "    <tr>\n",
              "      <th>3</th>\n",
              "      <td>2010/11</td>\n",
              "      <td>Day</td>\n",
              "      <td>Q4</td>\n",
              "      <td>11328.444444</td>\n",
              "      <td>11223.500000</td>\n",
              "      <td>0.0</td>\n",
              "      <td>101.944444</td>\n",
              "      <td>3.000000</td>\n",
              "      <td>NaN</td>\n",
              "      <td>Q4</td>\n",
              "    </tr>\n",
              "    <tr>\n",
              "      <th>4</th>\n",
              "      <td>2011/12</td>\n",
              "      <td>Day</td>\n",
              "      <td>Q1</td>\n",
              "      <td>10692.483516</td>\n",
              "      <td>10588.923077</td>\n",
              "      <td>0.0</td>\n",
              "      <td>100.417582</td>\n",
              "      <td>3.142857</td>\n",
              "      <td>2011/12</td>\n",
              "      <td>Q1</td>\n",
              "    </tr>\n",
              "  </tbody>\n",
              "</table>\n",
              "</div>\n",
              "      <button class=\"colab-df-convert\" onclick=\"convertToInteractive('df-1ad144ee-ee6d-40bb-8bff-8e73812d2ea4')\"\n",
              "              title=\"Convert this dataframe to an interactive table.\"\n",
              "              style=\"display:none;\">\n",
              "        \n",
              "  <svg xmlns=\"http://www.w3.org/2000/svg\" height=\"24px\"viewBox=\"0 0 24 24\"\n",
              "       width=\"24px\">\n",
              "    <path d=\"M0 0h24v24H0V0z\" fill=\"none\"/>\n",
              "    <path d=\"M18.56 5.44l.94 2.06.94-2.06 2.06-.94-2.06-.94-.94-2.06-.94 2.06-2.06.94zm-11 1L8.5 8.5l.94-2.06 2.06-.94-2.06-.94L8.5 2.5l-.94 2.06-2.06.94zm10 10l.94 2.06.94-2.06 2.06-.94-2.06-.94-.94-2.06-.94 2.06-2.06.94z\"/><path d=\"M17.41 7.96l-1.37-1.37c-.4-.4-.92-.59-1.43-.59-.52 0-1.04.2-1.43.59L10.3 9.45l-7.72 7.72c-.78.78-.78 2.05 0 2.83L4 21.41c.39.39.9.59 1.41.59.51 0 1.02-.2 1.41-.59l7.78-7.78 2.81-2.81c.8-.78.8-2.07 0-2.86zM5.41 20L4 18.59l7.72-7.72 1.47 1.35L5.41 20z\"/>\n",
              "  </svg>\n",
              "      </button>\n",
              "      \n",
              "  <style>\n",
              "    .colab-df-container {\n",
              "      display:flex;\n",
              "      flex-wrap:wrap;\n",
              "      gap: 12px;\n",
              "    }\n",
              "\n",
              "    .colab-df-convert {\n",
              "      background-color: #E8F0FE;\n",
              "      border: none;\n",
              "      border-radius: 50%;\n",
              "      cursor: pointer;\n",
              "      display: none;\n",
              "      fill: #1967D2;\n",
              "      height: 32px;\n",
              "      padding: 0 0 0 0;\n",
              "      width: 32px;\n",
              "    }\n",
              "\n",
              "    .colab-df-convert:hover {\n",
              "      background-color: #E2EBFA;\n",
              "      box-shadow: 0px 1px 2px rgba(60, 64, 67, 0.3), 0px 1px 3px 1px rgba(60, 64, 67, 0.15);\n",
              "      fill: #174EA6;\n",
              "    }\n",
              "\n",
              "    [theme=dark] .colab-df-convert {\n",
              "      background-color: #3B4455;\n",
              "      fill: #D2E3FC;\n",
              "    }\n",
              "\n",
              "    [theme=dark] .colab-df-convert:hover {\n",
              "      background-color: #434B5C;\n",
              "      box-shadow: 0px 1px 3px 1px rgba(0, 0, 0, 0.15);\n",
              "      filter: drop-shadow(0px 1px 2px rgba(0, 0, 0, 0.3));\n",
              "      fill: #FFFFFF;\n",
              "    }\n",
              "  </style>\n",
              "\n",
              "      <script>\n",
              "        const buttonEl =\n",
              "          document.querySelector('#df-1ad144ee-ee6d-40bb-8bff-8e73812d2ea4 button.colab-df-convert');\n",
              "        buttonEl.style.display =\n",
              "          google.colab.kernel.accessAllowed ? 'block' : 'none';\n",
              "\n",
              "        async function convertToInteractive(key) {\n",
              "          const element = document.querySelector('#df-1ad144ee-ee6d-40bb-8bff-8e73812d2ea4');\n",
              "          const dataTable =\n",
              "            await google.colab.kernel.invokeFunction('convertToInteractive',\n",
              "                                                     [key], {});\n",
              "          if (!dataTable) return;\n",
              "\n",
              "          const docLinkHtml = 'Like what you see? Visit the ' +\n",
              "            '<a target=\"_blank\" href=https://colab.research.google.com/notebooks/data_table.ipynb>data table notebook</a>'\n",
              "            + ' to learn more about interactive tables.';\n",
              "          element.innerHTML = '';\n",
              "          dataTable['output_type'] = 'display_data';\n",
              "          await google.colab.output.renderOutput(dataTable, element);\n",
              "          const docLink = document.createElement('div');\n",
              "          docLink.innerHTML = docLinkHtml;\n",
              "          element.appendChild(docLink);\n",
              "        }\n",
              "      </script>\n",
              "    </div>\n",
              "  </div>\n",
              "  "
            ]
          },
          "metadata": {},
          "execution_count": 91
        }
      ]
    },
    {
      "cell_type": "markdown",
      "source": [
        "###**Data Cleaning**\n",
        "\n"
      ],
      "metadata": {
        "id": "qzYMlGprDj_e"
      }
    },
    {
      "cell_type": "markdown",
      "source": [
        "First step is to clean up the column names for both dataframes"
      ],
      "metadata": {
        "id": "sAh-Sp5o_6Dr"
      }
    },
    {
      "cell_type": "code",
      "source": [
        "# create a dictionary mapping old column names to new column names for df1 and df2\n",
        "new_names1 = {col: col.rstrip() for col in df1.columns}\n",
        "new_names2 = {col: col.rstrip() for col in df2.columns}\n",
        "\n",
        "# rename columns using the dictionary\n",
        "df1 = df1.rename(columns=new_names1)\n",
        "df2 = df2.rename(columns=new_names2)"
      ],
      "metadata": {
        "id": "X8tKNpKD-8_X"
      },
      "execution_count": 92,
      "outputs": []
    },
    {
      "cell_type": "markdown",
      "source": [
        "For the rest of the data cleaning I am going to work on dataframe 1 and dataframe 2 separately due to their different structure and not all variables matching."
      ],
      "metadata": {
        "id": "gRMAlwei_Ltu"
      }
    },
    {
      "cell_type": "markdown",
      "source": [
        "####**Dataframe 1 - df1**"
      ],
      "metadata": {
        "id": "Qbz-EuA4_Ecm"
      }
    },
    {
      "cell_type": "markdown",
      "source": [
        "***Check for nulls***"
      ],
      "metadata": {
        "id": "hgDsCh5b8L1y"
      }
    },
    {
      "cell_type": "code",
      "source": [
        "def nulls_breakdown(df1=df1):\n",
        "    df1_cols = list(df1.columns)\n",
        "    cols_total_count = len(list(df1.columns))\n",
        "    cols_count = 0\n",
        "    for loc, col in enumerate(df1_cols):\n",
        "        null_count = df1[col].isnull().sum()\n",
        "        total_count = df1[col].isnull().count()\n",
        "        percent_null = round(null_count/total_count*100, 2)\n",
        "        if null_count > 0:\n",
        "            cols_count += 1\n",
        "            print('[iloc = {}] {} has {} null values: {}% null'.format(loc, col, null_count, percent_null))\n",
        "    cols_percent_null = round(cols_count/cols_total_count*100, 2)\n",
        "    print('Out of {} total columns, {} contain null values; {}% columns contain null values.'.format(cols_total_count, cols_count, cols_percent_null))\n",
        "  \n",
        "nulls_breakdown()"
      ],
      "metadata": {
        "colab": {
          "base_uri": "https://localhost:8080/"
        },
        "id": "vDgcd_SD7xpm",
        "outputId": "386a2b06-b24a-4765-eb0d-b229faa745e7"
      },
      "execution_count": 93,
      "outputs": [
        {
          "output_type": "stream",
          "name": "stdout",
          "text": [
            "[iloc = 3] General_and_Acute has 23 null values: 50.0% null\n",
            "[iloc = 4] Acute has 23 null values: 50.0% null\n",
            "[iloc = 5] Geriatric has 23 null values: 50.0% null\n",
            "[iloc = 6] Mental_Illness has 23 null values: 50.0% null\n",
            "[iloc = 7] Learning_Disabilities has 23 null values: 50.0% null\n",
            "[iloc = 8] Maternity has 23 null values: 50.0% null\n",
            "Out of 9 total columns, 6 contain null values; 66.67% columns contain null values.\n"
          ]
        }
      ]
    },
    {
      "cell_type": "markdown",
      "source": [
        "Dataframe 1 nulls are explained by missing values for specialties breakdown for day beds. Specialties breakdown (general and acute, acute, geriatric, mental illness, learning disabilities and maternity) of figures is only available for overnight beds. This means that we will not be able to use the specialties breakdown figures for a time series analysis from 1987/88 to 2020/21 as we only have them available for half of the data from 1987/88 to 2009/10 (overnight beds)."
      ],
      "metadata": {
        "id": "3o04sWNn68h9"
      }
    },
    {
      "cell_type": "markdown",
      "source": [
        "***Dealing with the missing values***\n",
        "\n",
        "As mentioned above, we are not able to use the specialties breakdown figures therefore we will remove these from dataframe 1."
      ],
      "metadata": {
        "id": "_PPrHHPW8xxo"
      }
    },
    {
      "cell_type": "code",
      "source": [
        "df1 = df1[['Year','Total','Day_or_night']]"
      ],
      "metadata": {
        "id": "rWFHSr8g9HNK"
      },
      "execution_count": 94,
      "outputs": []
    },
    {
      "cell_type": "markdown",
      "source": [
        "####**Dataframe 2 - df2**"
      ],
      "metadata": {
        "id": "AwsFAB0CDv1E"
      }
    },
    {
      "cell_type": "markdown",
      "source": [
        "***Matching columns for df1 and df2***"
      ],
      "metadata": {
        "id": "tSKa-9kBA105"
      }
    },
    {
      "cell_type": "markdown",
      "source": [
        "There are also specialty breakdown columns in dataframe 2 - as we don't have these columns for the day beds in dataframe 1 we won't be able to use them for the analysis of day and overnight beds from 1987/88 - 2020/21. Therefore for this simple analysis I will remove these columns in df2 also."
      ],
      "metadata": {
        "id": "Q-V-8JDt9b7n"
      }
    },
    {
      "cell_type": "code",
      "source": [
        "df2 = df2[['Year','Total','Day_or_night', 'Period']]"
      ],
      "metadata": {
        "id": "f9kl6M4z-l3N"
      },
      "execution_count": 95,
      "outputs": []
    },
    {
      "cell_type": "markdown",
      "source": [
        "**Check for nulls**"
      ],
      "metadata": {
        "id": "2W63CmweAmlG"
      }
    },
    {
      "cell_type": "code",
      "source": [
        "def nulls_breakdown(df2=df2):\n",
        "    df2_cols = list(df2.columns)\n",
        "    cols_total_count = len(list(df2.columns))\n",
        "    cols_count = 0\n",
        "    for loc, col in enumerate(df2_cols):\n",
        "        null_count = df2[col].isnull().sum()\n",
        "        total_count = df2[col].isnull().count()\n",
        "        percent_null = round(null_count/total_count*100, 2)\n",
        "        if null_count > 0:\n",
        "            cols_count += 1\n",
        "            print('[iloc = {}] {} has {} null values: {}% null'.format(loc, col, null_count, percent_null))\n",
        "    cols_percent_null = round(cols_count/cols_total_count*100, 2)\n",
        "    print('Out of {} total columns, {} contain null values; {}% columns contain null values.'.format(cols_total_count, cols_count, cols_percent_null))\n",
        "  \n",
        "nulls_breakdown()"
      ],
      "metadata": {
        "colab": {
          "base_uri": "https://localhost:8080/"
        },
        "id": "FpTHzM2FApJL",
        "outputId": "c8fe56f2-14e9-40f2-be7e-fd979d4f436c"
      },
      "execution_count": 96,
      "outputs": [
        {
          "output_type": "stream",
          "name": "stdout",
          "text": [
            "Out of 4 total columns, 0 contain null values; 0.0% columns contain null values.\n"
          ]
        }
      ]
    },
    {
      "cell_type": "markdown",
      "source": [
        "No nulls in dataframe 2 therefore no action needed."
      ],
      "metadata": {
        "id": "i6k5314CB859"
      }
    },
    {
      "cell_type": "markdown",
      "source": [
        "### **Manipulating the data to get it in the right format**"
      ],
      "metadata": {
        "id": "zRPH6x1Orpkp"
      }
    },
    {
      "cell_type": "markdown",
      "source": [
        "The data for both dataframe 1 and dataframe 2 need to be manipulated to get them both in the right format. To  be able to plot a chart to show how the number of hospital beds have changed over time there are 2 important columns needed: 'Year' and 'Total' (Number of beds Available)."
      ],
      "metadata": {
        "id": "WRCL7VqtCFr0"
      }
    },
    {
      "cell_type": "markdown",
      "source": [
        "***What needs to be done***\n",
        "\n",
        "**Dataframe 1:** The beds available for day and overnight need to be summed to create a 'Total' column.\n",
        "\n",
        "**Dataframe 2:** The beds available for day and overnight need to be summed to create total across the whole 24 hours, and the beds for each quarter also need to be summed to create 'Total' for each year."
      ],
      "metadata": {
        "id": "rn-ARATWDP6h"
      }
    },
    {
      "cell_type": "markdown",
      "source": [
        "**Dataframe 1**"
      ],
      "metadata": {
        "id": "Q5TWz9WvDdXH"
      }
    },
    {
      "cell_type": "code",
      "execution_count": 97,
      "metadata": {
        "id": "1M6Qt4usnDLb",
        "colab": {
          "base_uri": "https://localhost:8080/",
          "height": 770
        },
        "outputId": "cd2ed9d2-2358-42c5-80b1-bc3bae5176af"
      },
      "outputs": [
        {
          "output_type": "execute_result",
          "data": {
            "text/plain": [
              "Day_or_night     Year          Total\n",
              "0             1987-88  299364.000000\n",
              "1             1988-89  285391.000000\n",
              "2             1989-90  273161.897715\n",
              "3             1990-91  258546.841096\n",
              "4             1991-92  246076.336339\n",
              "5             1992-93  236173.323288\n",
              "6             1993-94  224383.717808\n",
              "7             1994-95  217511.652055\n",
              "8             1995-96  212676.893443\n",
              "9             1996-97  205614.441096\n",
              "10            1997-98  200750.660274\n",
              "11            1998-99  197574.071233\n",
              "12            1999-00  194227.816940\n",
              "13            2000-01  194246.000000\n",
              "14            2001-02  192906.942466\n",
              "15            2002-03  192369.564384\n",
              "16            2003-04  192832.051913\n",
              "17            2004-05  190126.356164\n",
              "18            2005-06  185161.958904\n",
              "19            2006-07  177361.161644\n",
              "20            2007-08  171369.917760\n",
              "21            2008-09  171213.123288\n",
              "22            2009-10  169682.035616"
            ],
            "text/html": [
              "\n",
              "  <div id=\"df-1d3c5be2-1851-4291-9d2b-4824ee7718d5\">\n",
              "    <div class=\"colab-df-container\">\n",
              "      <div>\n",
              "<style scoped>\n",
              "    .dataframe tbody tr th:only-of-type {\n",
              "        vertical-align: middle;\n",
              "    }\n",
              "\n",
              "    .dataframe tbody tr th {\n",
              "        vertical-align: top;\n",
              "    }\n",
              "\n",
              "    .dataframe thead th {\n",
              "        text-align: right;\n",
              "    }\n",
              "</style>\n",
              "<table border=\"1\" class=\"dataframe\">\n",
              "  <thead>\n",
              "    <tr style=\"text-align: right;\">\n",
              "      <th>Day_or_night</th>\n",
              "      <th>Year</th>\n",
              "      <th>Total</th>\n",
              "    </tr>\n",
              "  </thead>\n",
              "  <tbody>\n",
              "    <tr>\n",
              "      <th>0</th>\n",
              "      <td>1987-88</td>\n",
              "      <td>299364.000000</td>\n",
              "    </tr>\n",
              "    <tr>\n",
              "      <th>1</th>\n",
              "      <td>1988-89</td>\n",
              "      <td>285391.000000</td>\n",
              "    </tr>\n",
              "    <tr>\n",
              "      <th>2</th>\n",
              "      <td>1989-90</td>\n",
              "      <td>273161.897715</td>\n",
              "    </tr>\n",
              "    <tr>\n",
              "      <th>3</th>\n",
              "      <td>1990-91</td>\n",
              "      <td>258546.841096</td>\n",
              "    </tr>\n",
              "    <tr>\n",
              "      <th>4</th>\n",
              "      <td>1991-92</td>\n",
              "      <td>246076.336339</td>\n",
              "    </tr>\n",
              "    <tr>\n",
              "      <th>5</th>\n",
              "      <td>1992-93</td>\n",
              "      <td>236173.323288</td>\n",
              "    </tr>\n",
              "    <tr>\n",
              "      <th>6</th>\n",
              "      <td>1993-94</td>\n",
              "      <td>224383.717808</td>\n",
              "    </tr>\n",
              "    <tr>\n",
              "      <th>7</th>\n",
              "      <td>1994-95</td>\n",
              "      <td>217511.652055</td>\n",
              "    </tr>\n",
              "    <tr>\n",
              "      <th>8</th>\n",
              "      <td>1995-96</td>\n",
              "      <td>212676.893443</td>\n",
              "    </tr>\n",
              "    <tr>\n",
              "      <th>9</th>\n",
              "      <td>1996-97</td>\n",
              "      <td>205614.441096</td>\n",
              "    </tr>\n",
              "    <tr>\n",
              "      <th>10</th>\n",
              "      <td>1997-98</td>\n",
              "      <td>200750.660274</td>\n",
              "    </tr>\n",
              "    <tr>\n",
              "      <th>11</th>\n",
              "      <td>1998-99</td>\n",
              "      <td>197574.071233</td>\n",
              "    </tr>\n",
              "    <tr>\n",
              "      <th>12</th>\n",
              "      <td>1999-00</td>\n",
              "      <td>194227.816940</td>\n",
              "    </tr>\n",
              "    <tr>\n",
              "      <th>13</th>\n",
              "      <td>2000-01</td>\n",
              "      <td>194246.000000</td>\n",
              "    </tr>\n",
              "    <tr>\n",
              "      <th>14</th>\n",
              "      <td>2001-02</td>\n",
              "      <td>192906.942466</td>\n",
              "    </tr>\n",
              "    <tr>\n",
              "      <th>15</th>\n",
              "      <td>2002-03</td>\n",
              "      <td>192369.564384</td>\n",
              "    </tr>\n",
              "    <tr>\n",
              "      <th>16</th>\n",
              "      <td>2003-04</td>\n",
              "      <td>192832.051913</td>\n",
              "    </tr>\n",
              "    <tr>\n",
              "      <th>17</th>\n",
              "      <td>2004-05</td>\n",
              "      <td>190126.356164</td>\n",
              "    </tr>\n",
              "    <tr>\n",
              "      <th>18</th>\n",
              "      <td>2005-06</td>\n",
              "      <td>185161.958904</td>\n",
              "    </tr>\n",
              "    <tr>\n",
              "      <th>19</th>\n",
              "      <td>2006-07</td>\n",
              "      <td>177361.161644</td>\n",
              "    </tr>\n",
              "    <tr>\n",
              "      <th>20</th>\n",
              "      <td>2007-08</td>\n",
              "      <td>171369.917760</td>\n",
              "    </tr>\n",
              "    <tr>\n",
              "      <th>21</th>\n",
              "      <td>2008-09</td>\n",
              "      <td>171213.123288</td>\n",
              "    </tr>\n",
              "    <tr>\n",
              "      <th>22</th>\n",
              "      <td>2009-10</td>\n",
              "      <td>169682.035616</td>\n",
              "    </tr>\n",
              "  </tbody>\n",
              "</table>\n",
              "</div>\n",
              "      <button class=\"colab-df-convert\" onclick=\"convertToInteractive('df-1d3c5be2-1851-4291-9d2b-4824ee7718d5')\"\n",
              "              title=\"Convert this dataframe to an interactive table.\"\n",
              "              style=\"display:none;\">\n",
              "        \n",
              "  <svg xmlns=\"http://www.w3.org/2000/svg\" height=\"24px\"viewBox=\"0 0 24 24\"\n",
              "       width=\"24px\">\n",
              "    <path d=\"M0 0h24v24H0V0z\" fill=\"none\"/>\n",
              "    <path d=\"M18.56 5.44l.94 2.06.94-2.06 2.06-.94-2.06-.94-.94-2.06-.94 2.06-2.06.94zm-11 1L8.5 8.5l.94-2.06 2.06-.94-2.06-.94L8.5 2.5l-.94 2.06-2.06.94zm10 10l.94 2.06.94-2.06 2.06-.94-2.06-.94-.94-2.06-.94 2.06-2.06.94z\"/><path d=\"M17.41 7.96l-1.37-1.37c-.4-.4-.92-.59-1.43-.59-.52 0-1.04.2-1.43.59L10.3 9.45l-7.72 7.72c-.78.78-.78 2.05 0 2.83L4 21.41c.39.39.9.59 1.41.59.51 0 1.02-.2 1.41-.59l7.78-7.78 2.81-2.81c.8-.78.8-2.07 0-2.86zM5.41 20L4 18.59l7.72-7.72 1.47 1.35L5.41 20z\"/>\n",
              "  </svg>\n",
              "      </button>\n",
              "      \n",
              "  <style>\n",
              "    .colab-df-container {\n",
              "      display:flex;\n",
              "      flex-wrap:wrap;\n",
              "      gap: 12px;\n",
              "    }\n",
              "\n",
              "    .colab-df-convert {\n",
              "      background-color: #E8F0FE;\n",
              "      border: none;\n",
              "      border-radius: 50%;\n",
              "      cursor: pointer;\n",
              "      display: none;\n",
              "      fill: #1967D2;\n",
              "      height: 32px;\n",
              "      padding: 0 0 0 0;\n",
              "      width: 32px;\n",
              "    }\n",
              "\n",
              "    .colab-df-convert:hover {\n",
              "      background-color: #E2EBFA;\n",
              "      box-shadow: 0px 1px 2px rgba(60, 64, 67, 0.3), 0px 1px 3px 1px rgba(60, 64, 67, 0.15);\n",
              "      fill: #174EA6;\n",
              "    }\n",
              "\n",
              "    [theme=dark] .colab-df-convert {\n",
              "      background-color: #3B4455;\n",
              "      fill: #D2E3FC;\n",
              "    }\n",
              "\n",
              "    [theme=dark] .colab-df-convert:hover {\n",
              "      background-color: #434B5C;\n",
              "      box-shadow: 0px 1px 3px 1px rgba(0, 0, 0, 0.15);\n",
              "      filter: drop-shadow(0px 1px 2px rgba(0, 0, 0, 0.3));\n",
              "      fill: #FFFFFF;\n",
              "    }\n",
              "  </style>\n",
              "\n",
              "      <script>\n",
              "        const buttonEl =\n",
              "          document.querySelector('#df-1d3c5be2-1851-4291-9d2b-4824ee7718d5 button.colab-df-convert');\n",
              "        buttonEl.style.display =\n",
              "          google.colab.kernel.accessAllowed ? 'block' : 'none';\n",
              "\n",
              "        async function convertToInteractive(key) {\n",
              "          const element = document.querySelector('#df-1d3c5be2-1851-4291-9d2b-4824ee7718d5');\n",
              "          const dataTable =\n",
              "            await google.colab.kernel.invokeFunction('convertToInteractive',\n",
              "                                                     [key], {});\n",
              "          if (!dataTable) return;\n",
              "\n",
              "          const docLinkHtml = 'Like what you see? Visit the ' +\n",
              "            '<a target=\"_blank\" href=https://colab.research.google.com/notebooks/data_table.ipynb>data table notebook</a>'\n",
              "            + ' to learn more about interactive tables.';\n",
              "          element.innerHTML = '';\n",
              "          dataTable['output_type'] = 'display_data';\n",
              "          await google.colab.output.renderOutput(dataTable, element);\n",
              "          const docLink = document.createElement('div');\n",
              "          docLink.innerHTML = docLinkHtml;\n",
              "          element.appendChild(docLink);\n",
              "        }\n",
              "      </script>\n",
              "    </div>\n",
              "  </div>\n",
              "  "
            ]
          },
          "metadata": {},
          "execution_count": 97
        }
      ],
      "source": [
        "#pivot df1 to find the sum of day and night\n",
        "pivot_df1 = pd.pivot_table(df1, values='Total', index=['Year'], columns=['Day_or_night'], aggfunc=sum)\n",
        "\n",
        "#add new column for the sum of day and overnight - and then keep just Year and Total\n",
        "pivot_df1['Total'] = pivot_df1.sum(axis=1)\n",
        "\n",
        "# reset the index to get the year and day_or_night as columns and then keep only Year and Total columns\n",
        "result = pivot_df1.reset_index()\n",
        "df1 = result[['Year','Total']]\n",
        "\n",
        "df1"
      ]
    },
    {
      "cell_type": "markdown",
      "source": [
        "**Dataframe 2**"
      ],
      "metadata": {
        "id": "TWfNfezIDhkv"
      }
    },
    {
      "cell_type": "code",
      "source": [
        "#pivot df2 to find the sum of day and night\n",
        "# create a pivot table to sum the total by year and period\n",
        "pivot_df2 = pd.pivot_table(df2, values='Total', index=['Year', 'Period'], columns=['Day_or_night'], aggfunc=sum)\n",
        "\n",
        "# add a column for the sum of day and overnight\n",
        "pivot_df2['Sum'] = pivot_df2.sum(axis=1)\n",
        "\n",
        "#pivot the Period\n",
        "pivot_df2 = pd.pivot_table(pivot_df2, values='Sum', index=['Year'], columns=['Period'], aggfunc=sum)\n",
        "\n",
        "# add a column for the average over the 4 quarters for each year\n",
        "pivot_df2['Total'] = pivot_df2.mean(axis=1)\n",
        "\n",
        "# reset the index to get the year and day_or_night as columns and then keep only Year and Total columns\n",
        "result = pivot_df2.reset_index()\n",
        "df2 = result[['Year','Total']]\n",
        "\n",
        "df2"
      ],
      "metadata": {
        "colab": {
          "base_uri": "https://localhost:8080/",
          "height": 394
        },
        "id": "n_8f39iJDj58",
        "outputId": "785296cd-8e7c-4ee6-a2cd-47c06cccd43e"
      },
      "execution_count": 98,
      "outputs": [
        {
          "output_type": "execute_result",
          "data": {
            "text/plain": [
              "Period     Year          Total\n",
              "0       2010/11  153724.582762\n",
              "1       2011/12  149869.839821\n",
              "2       2012/13  148515.238634\n",
              "3       2013/14  147904.597859\n",
              "4       2014/15  147778.834850\n",
              "5       2015/16  143627.897407\n",
              "6       2016/17  143465.823198\n",
              "7       2017/18  141659.652220\n",
              "8       2018/19  140963.742558\n",
              "9       2019/20  140977.714256\n",
              "10      2020/21  131795.048241"
            ],
            "text/html": [
              "\n",
              "  <div id=\"df-56ec2afb-37b2-4619-b504-07b768a902d9\">\n",
              "    <div class=\"colab-df-container\">\n",
              "      <div>\n",
              "<style scoped>\n",
              "    .dataframe tbody tr th:only-of-type {\n",
              "        vertical-align: middle;\n",
              "    }\n",
              "\n",
              "    .dataframe tbody tr th {\n",
              "        vertical-align: top;\n",
              "    }\n",
              "\n",
              "    .dataframe thead th {\n",
              "        text-align: right;\n",
              "    }\n",
              "</style>\n",
              "<table border=\"1\" class=\"dataframe\">\n",
              "  <thead>\n",
              "    <tr style=\"text-align: right;\">\n",
              "      <th>Period</th>\n",
              "      <th>Year</th>\n",
              "      <th>Total</th>\n",
              "    </tr>\n",
              "  </thead>\n",
              "  <tbody>\n",
              "    <tr>\n",
              "      <th>0</th>\n",
              "      <td>2010/11</td>\n",
              "      <td>153724.582762</td>\n",
              "    </tr>\n",
              "    <tr>\n",
              "      <th>1</th>\n",
              "      <td>2011/12</td>\n",
              "      <td>149869.839821</td>\n",
              "    </tr>\n",
              "    <tr>\n",
              "      <th>2</th>\n",
              "      <td>2012/13</td>\n",
              "      <td>148515.238634</td>\n",
              "    </tr>\n",
              "    <tr>\n",
              "      <th>3</th>\n",
              "      <td>2013/14</td>\n",
              "      <td>147904.597859</td>\n",
              "    </tr>\n",
              "    <tr>\n",
              "      <th>4</th>\n",
              "      <td>2014/15</td>\n",
              "      <td>147778.834850</td>\n",
              "    </tr>\n",
              "    <tr>\n",
              "      <th>5</th>\n",
              "      <td>2015/16</td>\n",
              "      <td>143627.897407</td>\n",
              "    </tr>\n",
              "    <tr>\n",
              "      <th>6</th>\n",
              "      <td>2016/17</td>\n",
              "      <td>143465.823198</td>\n",
              "    </tr>\n",
              "    <tr>\n",
              "      <th>7</th>\n",
              "      <td>2017/18</td>\n",
              "      <td>141659.652220</td>\n",
              "    </tr>\n",
              "    <tr>\n",
              "      <th>8</th>\n",
              "      <td>2018/19</td>\n",
              "      <td>140963.742558</td>\n",
              "    </tr>\n",
              "    <tr>\n",
              "      <th>9</th>\n",
              "      <td>2019/20</td>\n",
              "      <td>140977.714256</td>\n",
              "    </tr>\n",
              "    <tr>\n",
              "      <th>10</th>\n",
              "      <td>2020/21</td>\n",
              "      <td>131795.048241</td>\n",
              "    </tr>\n",
              "  </tbody>\n",
              "</table>\n",
              "</div>\n",
              "      <button class=\"colab-df-convert\" onclick=\"convertToInteractive('df-56ec2afb-37b2-4619-b504-07b768a902d9')\"\n",
              "              title=\"Convert this dataframe to an interactive table.\"\n",
              "              style=\"display:none;\">\n",
              "        \n",
              "  <svg xmlns=\"http://www.w3.org/2000/svg\" height=\"24px\"viewBox=\"0 0 24 24\"\n",
              "       width=\"24px\">\n",
              "    <path d=\"M0 0h24v24H0V0z\" fill=\"none\"/>\n",
              "    <path d=\"M18.56 5.44l.94 2.06.94-2.06 2.06-.94-2.06-.94-.94-2.06-.94 2.06-2.06.94zm-11 1L8.5 8.5l.94-2.06 2.06-.94-2.06-.94L8.5 2.5l-.94 2.06-2.06.94zm10 10l.94 2.06.94-2.06 2.06-.94-2.06-.94-.94-2.06-.94 2.06-2.06.94z\"/><path d=\"M17.41 7.96l-1.37-1.37c-.4-.4-.92-.59-1.43-.59-.52 0-1.04.2-1.43.59L10.3 9.45l-7.72 7.72c-.78.78-.78 2.05 0 2.83L4 21.41c.39.39.9.59 1.41.59.51 0 1.02-.2 1.41-.59l7.78-7.78 2.81-2.81c.8-.78.8-2.07 0-2.86zM5.41 20L4 18.59l7.72-7.72 1.47 1.35L5.41 20z\"/>\n",
              "  </svg>\n",
              "      </button>\n",
              "      \n",
              "  <style>\n",
              "    .colab-df-container {\n",
              "      display:flex;\n",
              "      flex-wrap:wrap;\n",
              "      gap: 12px;\n",
              "    }\n",
              "\n",
              "    .colab-df-convert {\n",
              "      background-color: #E8F0FE;\n",
              "      border: none;\n",
              "      border-radius: 50%;\n",
              "      cursor: pointer;\n",
              "      display: none;\n",
              "      fill: #1967D2;\n",
              "      height: 32px;\n",
              "      padding: 0 0 0 0;\n",
              "      width: 32px;\n",
              "    }\n",
              "\n",
              "    .colab-df-convert:hover {\n",
              "      background-color: #E2EBFA;\n",
              "      box-shadow: 0px 1px 2px rgba(60, 64, 67, 0.3), 0px 1px 3px 1px rgba(60, 64, 67, 0.15);\n",
              "      fill: #174EA6;\n",
              "    }\n",
              "\n",
              "    [theme=dark] .colab-df-convert {\n",
              "      background-color: #3B4455;\n",
              "      fill: #D2E3FC;\n",
              "    }\n",
              "\n",
              "    [theme=dark] .colab-df-convert:hover {\n",
              "      background-color: #434B5C;\n",
              "      box-shadow: 0px 1px 3px 1px rgba(0, 0, 0, 0.15);\n",
              "      filter: drop-shadow(0px 1px 2px rgba(0, 0, 0, 0.3));\n",
              "      fill: #FFFFFF;\n",
              "    }\n",
              "  </style>\n",
              "\n",
              "      <script>\n",
              "        const buttonEl =\n",
              "          document.querySelector('#df-56ec2afb-37b2-4619-b504-07b768a902d9 button.colab-df-convert');\n",
              "        buttonEl.style.display =\n",
              "          google.colab.kernel.accessAllowed ? 'block' : 'none';\n",
              "\n",
              "        async function convertToInteractive(key) {\n",
              "          const element = document.querySelector('#df-56ec2afb-37b2-4619-b504-07b768a902d9');\n",
              "          const dataTable =\n",
              "            await google.colab.kernel.invokeFunction('convertToInteractive',\n",
              "                                                     [key], {});\n",
              "          if (!dataTable) return;\n",
              "\n",
              "          const docLinkHtml = 'Like what you see? Visit the ' +\n",
              "            '<a target=\"_blank\" href=https://colab.research.google.com/notebooks/data_table.ipynb>data table notebook</a>'\n",
              "            + ' to learn more about interactive tables.';\n",
              "          element.innerHTML = '';\n",
              "          dataTable['output_type'] = 'display_data';\n",
              "          await google.colab.output.renderOutput(dataTable, element);\n",
              "          const docLink = document.createElement('div');\n",
              "          docLink.innerHTML = docLinkHtml;\n",
              "          element.appendChild(docLink);\n",
              "        }\n",
              "      </script>\n",
              "    </div>\n",
              "  </div>\n",
              "  "
            ]
          },
          "metadata": {},
          "execution_count": 98
        }
      ]
    },
    {
      "cell_type": "markdown",
      "source": [
        "Now that we have both dataframes in the same format with the desired fields we can concatenate them"
      ],
      "metadata": {
        "id": "KZ65JjuPDsxT"
      }
    },
    {
      "cell_type": "markdown",
      "source": [
        "**Concatenate both Dataframes**"
      ],
      "metadata": {
        "id": "v1MsVUiPDmSC"
      }
    },
    {
      "cell_type": "code",
      "source": [
        "#col names for df1 and df2\n",
        "cols1 = set(df1.columns)\n",
        "cols2 = set(df2.columns)\n",
        "\n",
        "#find similar column names\n",
        "similar_cols = cols1.intersection(cols2)\n",
        "\n",
        "#We only want similar columns from each\n",
        "df1 = df1[list(similar_cols)]\n",
        "df2 = df2[list(similar_cols)]\n",
        "\n",
        "#Union the two datasets with matching columns (concat)\n",
        "df = pd.concat([df1, df2])"
      ],
      "metadata": {
        "id": "gHKtpIJmDmgy"
      },
      "execution_count": 99,
      "outputs": []
    },
    {
      "cell_type": "markdown",
      "source": [
        "Final step is to ensure all dates have the same format."
      ],
      "metadata": {
        "id": "srmCqPLsEAqA"
      }
    },
    {
      "cell_type": "code",
      "source": [
        "#Ensure all dates have the same format\n",
        "df['Year'] = df['Year'].str.replace('-', '/')"
      ],
      "metadata": {
        "id": "AL_98Xk7EBEJ"
      },
      "execution_count": 100,
      "outputs": []
    },
    {
      "cell_type": "markdown",
      "source": [
        "###**Interactive chart to present the data over time**\n",
        "\n"
      ],
      "metadata": {
        "id": "MxYM9phFr2es"
      }
    },
    {
      "cell_type": "markdown",
      "source": [
        "In the chart below you can clearly see that the number of hospital beds in England has decreased gradually over time year on year. It can be seen clearly that the number of hospital beds in England has more than halved during this time period."
      ],
      "metadata": {
        "id": "-HhNIu3DEL3g"
      }
    },
    {
      "cell_type": "code",
      "source": [
        "#@title\n",
        "#Import plotly\n",
        "import plotly.express as px\n",
        "\n",
        "#Create the line chart\n",
        "fig = px.line(x=df.Year, y= df.Total)\n",
        "\n",
        "#MAke changes to the layout including: Add titles and axis labels\n",
        "title = 'Number of Hospital Beds in England Over Time'\n",
        "subtitle = 'The number of hospital beds in England has more than halved over the past 30 years'\n",
        "fig.update_layout(\n",
        "    title ={\n",
        "        'text' : f'<b>{title}</b><br><sub>{subtitle}</sub>',\n",
        "        'y': 0.97, # set the vertical position of the title and subtitle\n",
        "        'yanchor': 'top' # align the title and subtitle to the top of the chart\n",
        "    },\n",
        "    xaxis_title = 'Year',\n",
        "    yaxis_title = 'Number of Beds Available',\n",
        "    font = dict(size = 14),\n",
        "    height = 700,\n",
        "    template = 'seaborn' #\"plotly\", \"plotly_white\", \"plotly_dark\", \"ggplot2\", \"seaborn\", \"simple_white\", \"none\"\n",
        "    ,hovermode = 'x',\n",
        "    xaxis=dict(\n",
        "        tickmode='array',\n",
        "        tickangle=315,\n",
        "        showgrid= False,\n",
        "        tickvals=df['Year'],\n",
        "        ticktext=[str(year) for year in df['Year']],\n",
        "        tickfont=dict(size=12, color='black'),\n",
        "        mirror=False,\n",
        "    ),\n",
        "    yaxis=dict(\n",
        "        tickfont=dict(size=12, color='black'),\n",
        "        mirror=False,\n",
        "    ) \n",
        ")\n",
        "\n",
        "#Add a slides for the dates\n",
        "fig.update_xaxes(rangeslider_visible=True)\n",
        "\n",
        "#Set max y value\n",
        "fig.update_yaxes(range=[0, 305000])\n",
        "\n",
        "#Amend the tooltip text\n",
        "fig.update_traces(\n",
        "    mode='markers+lines', \n",
        "    hovertemplate='<br>%{x}<br>Number of Beds Available: %{y:,.0f}<extra></extra>'\n",
        ")\n",
        "\n",
        "#Show plot\n",
        "fig.show()"
      ],
      "metadata": {
        "colab": {
          "base_uri": "https://localhost:8080/",
          "height": 717
        },
        "id": "SJII1owjsC3H",
        "outputId": "db947c91-ead4-4c09-ee8c-82f11b278437",
        "cellView": "form"
      },
      "execution_count": 101,
      "outputs": [
        {
          "output_type": "display_data",
          "data": {
            "text/html": [
              "<html>\n",
              "<head><meta charset=\"utf-8\" /></head>\n",
              "<body>\n",
              "    <div>            <script src=\"https://cdnjs.cloudflare.com/ajax/libs/mathjax/2.7.5/MathJax.js?config=TeX-AMS-MML_SVG\"></script><script type=\"text/javascript\">if (window.MathJax && window.MathJax.Hub && window.MathJax.Hub.Config) {window.MathJax.Hub.Config({SVG: {font: \"STIX-Web\"}});}</script>                <script type=\"text/javascript\">window.PlotlyConfig = {MathJaxConfig: 'local'};</script>\n",
              "        <script src=\"https://cdn.plot.ly/plotly-2.18.2.min.js\"></script>                <div id=\"aa0f30e7-8dda-46d0-97f9-d0aec33ec8bb\" class=\"plotly-graph-div\" style=\"height:700px; width:100%;\"></div>            <script type=\"text/javascript\">                                    window.PLOTLYENV=window.PLOTLYENV || {};                                    if (document.getElementById(\"aa0f30e7-8dda-46d0-97f9-d0aec33ec8bb\")) {                    Plotly.newPlot(                        \"aa0f30e7-8dda-46d0-97f9-d0aec33ec8bb\",                        [{\"hovertemplate\":\"<br>%{x}<br>Number of Beds Available: %{y:,.0f}<extra></extra>\",\"legendgroup\":\"\",\"line\":{\"color\":\"#636efa\",\"dash\":\"solid\"},\"marker\":{\"symbol\":\"circle\"},\"mode\":\"markers+lines\",\"name\":\"\",\"orientation\":\"v\",\"showlegend\":false,\"x\":[\"1987/88\",\"1988/89\",\"1989/90\",\"1990/91\",\"1991/92\",\"1992/93\",\"1993/94\",\"1994/95\",\"1995/96\",\"1996/97\",\"1997/98\",\"1998/99\",\"1999/00\",\"2000/01\",\"2001/02\",\"2002/03\",\"2003/04\",\"2004/05\",\"2005/06\",\"2006/07\",\"2007/08\",\"2008/09\",\"2009/10\",\"2010/11\",\"2011/12\",\"2012/13\",\"2013/14\",\"2014/15\",\"2015/16\",\"2016/17\",\"2017/18\",\"2018/19\",\"2019/20\",\"2020/21\"],\"xaxis\":\"x\",\"y\":[299364.0,285391.0,273161.8977154314,258546.8410958906,246076.33633879782,236173.32328767123,224383.7178082192,217511.65205479454,212676.89344262297,205614.44109589042,200750.66027397264,197574.0712328767,194227.81693989073,194246.0,192906.94246575344,192369.56438356164,192832.05191256822,190126.35616438361,185161.9589041096,177361.1616438356,171369.91775956276,171213.12328767125,169682.03561643822,153724.58276231616,149869.8398206615,148515.23863436983,147904.59785933272,147778.83485029463,143627.8974068323,143465.82319835963,141659.6522203642,140963.74255786484,140977.71425585286,131795.0482408292],\"yaxis\":\"y\",\"type\":\"scatter\"}],                        {\"template\":{\"data\":{\"barpolar\":[{\"marker\":{\"line\":{\"color\":\"rgb(234,234,242)\",\"width\":0.5},\"pattern\":{\"fillmode\":\"overlay\",\"size\":10,\"solidity\":0.2}},\"type\":\"barpolar\"}],\"bar\":[{\"error_x\":{\"color\":\"rgb(36,36,36)\"},\"error_y\":{\"color\":\"rgb(36,36,36)\"},\"marker\":{\"line\":{\"color\":\"rgb(234,234,242)\",\"width\":0.5},\"pattern\":{\"fillmode\":\"overlay\",\"size\":10,\"solidity\":0.2}},\"type\":\"bar\"}],\"carpet\":[{\"aaxis\":{\"endlinecolor\":\"rgb(36,36,36)\",\"gridcolor\":\"white\",\"linecolor\":\"white\",\"minorgridcolor\":\"white\",\"startlinecolor\":\"rgb(36,36,36)\"},\"baxis\":{\"endlinecolor\":\"rgb(36,36,36)\",\"gridcolor\":\"white\",\"linecolor\":\"white\",\"minorgridcolor\":\"white\",\"startlinecolor\":\"rgb(36,36,36)\"},\"type\":\"carpet\"}],\"choropleth\":[{\"colorbar\":{\"outlinewidth\":0,\"tickcolor\":\"rgb(36,36,36)\",\"ticklen\":8,\"ticks\":\"outside\",\"tickwidth\":2},\"type\":\"choropleth\"}],\"contourcarpet\":[{\"colorbar\":{\"outlinewidth\":0,\"tickcolor\":\"rgb(36,36,36)\",\"ticklen\":8,\"ticks\":\"outside\",\"tickwidth\":2},\"type\":\"contourcarpet\"}],\"contour\":[{\"colorbar\":{\"outlinewidth\":0,\"tickcolor\":\"rgb(36,36,36)\",\"ticklen\":8,\"ticks\":\"outside\",\"tickwidth\":2},\"colorscale\":[[0.0,\"rgb(2,4,25)\"],[0.06274509803921569,\"rgb(24,15,41)\"],[0.12549019607843137,\"rgb(47,23,57)\"],[0.18823529411764706,\"rgb(71,28,72)\"],[0.25098039215686274,\"rgb(97,30,82)\"],[0.3137254901960784,\"rgb(123,30,89)\"],[0.3764705882352941,\"rgb(150,27,91)\"],[0.4392156862745098,\"rgb(177,22,88)\"],[0.5019607843137255,\"rgb(203,26,79)\"],[0.5647058823529412,\"rgb(223,47,67)\"],[0.6274509803921569,\"rgb(236,76,61)\"],[0.6901960784313725,\"rgb(242,107,73)\"],[0.7529411764705882,\"rgb(244,135,95)\"],[0.8156862745098039,\"rgb(245,162,122)\"],[0.8784313725490196,\"rgb(246,188,153)\"],[0.9411764705882353,\"rgb(247,212,187)\"],[1.0,\"rgb(250,234,220)\"]],\"type\":\"contour\"}],\"heatmapgl\":[{\"colorbar\":{\"outlinewidth\":0,\"tickcolor\":\"rgb(36,36,36)\",\"ticklen\":8,\"ticks\":\"outside\",\"tickwidth\":2},\"colorscale\":[[0.0,\"rgb(2,4,25)\"],[0.06274509803921569,\"rgb(24,15,41)\"],[0.12549019607843137,\"rgb(47,23,57)\"],[0.18823529411764706,\"rgb(71,28,72)\"],[0.25098039215686274,\"rgb(97,30,82)\"],[0.3137254901960784,\"rgb(123,30,89)\"],[0.3764705882352941,\"rgb(150,27,91)\"],[0.4392156862745098,\"rgb(177,22,88)\"],[0.5019607843137255,\"rgb(203,26,79)\"],[0.5647058823529412,\"rgb(223,47,67)\"],[0.6274509803921569,\"rgb(236,76,61)\"],[0.6901960784313725,\"rgb(242,107,73)\"],[0.7529411764705882,\"rgb(244,135,95)\"],[0.8156862745098039,\"rgb(245,162,122)\"],[0.8784313725490196,\"rgb(246,188,153)\"],[0.9411764705882353,\"rgb(247,212,187)\"],[1.0,\"rgb(250,234,220)\"]],\"type\":\"heatmapgl\"}],\"heatmap\":[{\"colorbar\":{\"outlinewidth\":0,\"tickcolor\":\"rgb(36,36,36)\",\"ticklen\":8,\"ticks\":\"outside\",\"tickwidth\":2},\"colorscale\":[[0.0,\"rgb(2,4,25)\"],[0.06274509803921569,\"rgb(24,15,41)\"],[0.12549019607843137,\"rgb(47,23,57)\"],[0.18823529411764706,\"rgb(71,28,72)\"],[0.25098039215686274,\"rgb(97,30,82)\"],[0.3137254901960784,\"rgb(123,30,89)\"],[0.3764705882352941,\"rgb(150,27,91)\"],[0.4392156862745098,\"rgb(177,22,88)\"],[0.5019607843137255,\"rgb(203,26,79)\"],[0.5647058823529412,\"rgb(223,47,67)\"],[0.6274509803921569,\"rgb(236,76,61)\"],[0.6901960784313725,\"rgb(242,107,73)\"],[0.7529411764705882,\"rgb(244,135,95)\"],[0.8156862745098039,\"rgb(245,162,122)\"],[0.8784313725490196,\"rgb(246,188,153)\"],[0.9411764705882353,\"rgb(247,212,187)\"],[1.0,\"rgb(250,234,220)\"]],\"type\":\"heatmap\"}],\"histogram2dcontour\":[{\"colorbar\":{\"outlinewidth\":0,\"tickcolor\":\"rgb(36,36,36)\",\"ticklen\":8,\"ticks\":\"outside\",\"tickwidth\":2},\"colorscale\":[[0.0,\"rgb(2,4,25)\"],[0.06274509803921569,\"rgb(24,15,41)\"],[0.12549019607843137,\"rgb(47,23,57)\"],[0.18823529411764706,\"rgb(71,28,72)\"],[0.25098039215686274,\"rgb(97,30,82)\"],[0.3137254901960784,\"rgb(123,30,89)\"],[0.3764705882352941,\"rgb(150,27,91)\"],[0.4392156862745098,\"rgb(177,22,88)\"],[0.5019607843137255,\"rgb(203,26,79)\"],[0.5647058823529412,\"rgb(223,47,67)\"],[0.6274509803921569,\"rgb(236,76,61)\"],[0.6901960784313725,\"rgb(242,107,73)\"],[0.7529411764705882,\"rgb(244,135,95)\"],[0.8156862745098039,\"rgb(245,162,122)\"],[0.8784313725490196,\"rgb(246,188,153)\"],[0.9411764705882353,\"rgb(247,212,187)\"],[1.0,\"rgb(250,234,220)\"]],\"type\":\"histogram2dcontour\"}],\"histogram2d\":[{\"colorbar\":{\"outlinewidth\":0,\"tickcolor\":\"rgb(36,36,36)\",\"ticklen\":8,\"ticks\":\"outside\",\"tickwidth\":2},\"colorscale\":[[0.0,\"rgb(2,4,25)\"],[0.06274509803921569,\"rgb(24,15,41)\"],[0.12549019607843137,\"rgb(47,23,57)\"],[0.18823529411764706,\"rgb(71,28,72)\"],[0.25098039215686274,\"rgb(97,30,82)\"],[0.3137254901960784,\"rgb(123,30,89)\"],[0.3764705882352941,\"rgb(150,27,91)\"],[0.4392156862745098,\"rgb(177,22,88)\"],[0.5019607843137255,\"rgb(203,26,79)\"],[0.5647058823529412,\"rgb(223,47,67)\"],[0.6274509803921569,\"rgb(236,76,61)\"],[0.6901960784313725,\"rgb(242,107,73)\"],[0.7529411764705882,\"rgb(244,135,95)\"],[0.8156862745098039,\"rgb(245,162,122)\"],[0.8784313725490196,\"rgb(246,188,153)\"],[0.9411764705882353,\"rgb(247,212,187)\"],[1.0,\"rgb(250,234,220)\"]],\"type\":\"histogram2d\"}],\"histogram\":[{\"marker\":{\"pattern\":{\"fillmode\":\"overlay\",\"size\":10,\"solidity\":0.2}},\"type\":\"histogram\"}],\"mesh3d\":[{\"colorbar\":{\"outlinewidth\":0,\"tickcolor\":\"rgb(36,36,36)\",\"ticklen\":8,\"ticks\":\"outside\",\"tickwidth\":2},\"type\":\"mesh3d\"}],\"parcoords\":[{\"line\":{\"colorbar\":{\"outlinewidth\":0,\"tickcolor\":\"rgb(36,36,36)\",\"ticklen\":8,\"ticks\":\"outside\",\"tickwidth\":2}},\"type\":\"parcoords\"}],\"pie\":[{\"automargin\":true,\"type\":\"pie\"}],\"scatter3d\":[{\"line\":{\"colorbar\":{\"outlinewidth\":0,\"tickcolor\":\"rgb(36,36,36)\",\"ticklen\":8,\"ticks\":\"outside\",\"tickwidth\":2}},\"marker\":{\"colorbar\":{\"outlinewidth\":0,\"tickcolor\":\"rgb(36,36,36)\",\"ticklen\":8,\"ticks\":\"outside\",\"tickwidth\":2}},\"type\":\"scatter3d\"}],\"scattercarpet\":[{\"marker\":{\"colorbar\":{\"outlinewidth\":0,\"tickcolor\":\"rgb(36,36,36)\",\"ticklen\":8,\"ticks\":\"outside\",\"tickwidth\":2}},\"type\":\"scattercarpet\"}],\"scattergeo\":[{\"marker\":{\"colorbar\":{\"outlinewidth\":0,\"tickcolor\":\"rgb(36,36,36)\",\"ticklen\":8,\"ticks\":\"outside\",\"tickwidth\":2}},\"type\":\"scattergeo\"}],\"scattergl\":[{\"marker\":{\"colorbar\":{\"outlinewidth\":0,\"tickcolor\":\"rgb(36,36,36)\",\"ticklen\":8,\"ticks\":\"outside\",\"tickwidth\":2}},\"type\":\"scattergl\"}],\"scattermapbox\":[{\"marker\":{\"colorbar\":{\"outlinewidth\":0,\"tickcolor\":\"rgb(36,36,36)\",\"ticklen\":8,\"ticks\":\"outside\",\"tickwidth\":2}},\"type\":\"scattermapbox\"}],\"scatterpolargl\":[{\"marker\":{\"colorbar\":{\"outlinewidth\":0,\"tickcolor\":\"rgb(36,36,36)\",\"ticklen\":8,\"ticks\":\"outside\",\"tickwidth\":2}},\"type\":\"scatterpolargl\"}],\"scatterpolar\":[{\"marker\":{\"colorbar\":{\"outlinewidth\":0,\"tickcolor\":\"rgb(36,36,36)\",\"ticklen\":8,\"ticks\":\"outside\",\"tickwidth\":2}},\"type\":\"scatterpolar\"}],\"scatter\":[{\"fillpattern\":{\"fillmode\":\"overlay\",\"size\":10,\"solidity\":0.2},\"type\":\"scatter\"}],\"scatterternary\":[{\"marker\":{\"colorbar\":{\"outlinewidth\":0,\"tickcolor\":\"rgb(36,36,36)\",\"ticklen\":8,\"ticks\":\"outside\",\"tickwidth\":2}},\"type\":\"scatterternary\"}],\"surface\":[{\"colorbar\":{\"outlinewidth\":0,\"tickcolor\":\"rgb(36,36,36)\",\"ticklen\":8,\"ticks\":\"outside\",\"tickwidth\":2},\"colorscale\":[[0.0,\"rgb(2,4,25)\"],[0.06274509803921569,\"rgb(24,15,41)\"],[0.12549019607843137,\"rgb(47,23,57)\"],[0.18823529411764706,\"rgb(71,28,72)\"],[0.25098039215686274,\"rgb(97,30,82)\"],[0.3137254901960784,\"rgb(123,30,89)\"],[0.3764705882352941,\"rgb(150,27,91)\"],[0.4392156862745098,\"rgb(177,22,88)\"],[0.5019607843137255,\"rgb(203,26,79)\"],[0.5647058823529412,\"rgb(223,47,67)\"],[0.6274509803921569,\"rgb(236,76,61)\"],[0.6901960784313725,\"rgb(242,107,73)\"],[0.7529411764705882,\"rgb(244,135,95)\"],[0.8156862745098039,\"rgb(245,162,122)\"],[0.8784313725490196,\"rgb(246,188,153)\"],[0.9411764705882353,\"rgb(247,212,187)\"],[1.0,\"rgb(250,234,220)\"]],\"type\":\"surface\"}],\"table\":[{\"cells\":{\"fill\":{\"color\":\"rgb(231,231,240)\"},\"line\":{\"color\":\"white\"}},\"header\":{\"fill\":{\"color\":\"rgb(183,183,191)\"},\"line\":{\"color\":\"white\"}},\"type\":\"table\"}]},\"layout\":{\"annotationdefaults\":{\"arrowcolor\":\"rgb(67,103,167)\"},\"autotypenumbers\":\"strict\",\"coloraxis\":{\"colorbar\":{\"outlinewidth\":0,\"tickcolor\":\"rgb(36,36,36)\",\"ticklen\":8,\"ticks\":\"outside\",\"tickwidth\":2}},\"colorscale\":{\"sequential\":[[0.0,\"rgb(2,4,25)\"],[0.06274509803921569,\"rgb(24,15,41)\"],[0.12549019607843137,\"rgb(47,23,57)\"],[0.18823529411764706,\"rgb(71,28,72)\"],[0.25098039215686274,\"rgb(97,30,82)\"],[0.3137254901960784,\"rgb(123,30,89)\"],[0.3764705882352941,\"rgb(150,27,91)\"],[0.4392156862745098,\"rgb(177,22,88)\"],[0.5019607843137255,\"rgb(203,26,79)\"],[0.5647058823529412,\"rgb(223,47,67)\"],[0.6274509803921569,\"rgb(236,76,61)\"],[0.6901960784313725,\"rgb(242,107,73)\"],[0.7529411764705882,\"rgb(244,135,95)\"],[0.8156862745098039,\"rgb(245,162,122)\"],[0.8784313725490196,\"rgb(246,188,153)\"],[0.9411764705882353,\"rgb(247,212,187)\"],[1.0,\"rgb(250,234,220)\"]],\"sequentialminus\":[[0.0,\"rgb(2,4,25)\"],[0.06274509803921569,\"rgb(24,15,41)\"],[0.12549019607843137,\"rgb(47,23,57)\"],[0.18823529411764706,\"rgb(71,28,72)\"],[0.25098039215686274,\"rgb(97,30,82)\"],[0.3137254901960784,\"rgb(123,30,89)\"],[0.3764705882352941,\"rgb(150,27,91)\"],[0.4392156862745098,\"rgb(177,22,88)\"],[0.5019607843137255,\"rgb(203,26,79)\"],[0.5647058823529412,\"rgb(223,47,67)\"],[0.6274509803921569,\"rgb(236,76,61)\"],[0.6901960784313725,\"rgb(242,107,73)\"],[0.7529411764705882,\"rgb(244,135,95)\"],[0.8156862745098039,\"rgb(245,162,122)\"],[0.8784313725490196,\"rgb(246,188,153)\"],[0.9411764705882353,\"rgb(247,212,187)\"],[1.0,\"rgb(250,234,220)\"]]},\"colorway\":[\"rgb(76,114,176)\",\"rgb(221,132,82)\",\"rgb(85,168,104)\",\"rgb(196,78,82)\",\"rgb(129,114,179)\",\"rgb(147,120,96)\",\"rgb(218,139,195)\",\"rgb(140,140,140)\",\"rgb(204,185,116)\",\"rgb(100,181,205)\"],\"font\":{\"color\":\"rgb(36,36,36)\"},\"geo\":{\"bgcolor\":\"white\",\"lakecolor\":\"white\",\"landcolor\":\"rgb(234,234,242)\",\"showlakes\":true,\"showland\":true,\"subunitcolor\":\"white\"},\"hoverlabel\":{\"align\":\"left\"},\"hovermode\":\"closest\",\"paper_bgcolor\":\"white\",\"plot_bgcolor\":\"rgb(234,234,242)\",\"polar\":{\"angularaxis\":{\"gridcolor\":\"white\",\"linecolor\":\"white\",\"showgrid\":true,\"ticks\":\"\"},\"bgcolor\":\"rgb(234,234,242)\",\"radialaxis\":{\"gridcolor\":\"white\",\"linecolor\":\"white\",\"showgrid\":true,\"ticks\":\"\"}},\"scene\":{\"xaxis\":{\"backgroundcolor\":\"rgb(234,234,242)\",\"gridcolor\":\"white\",\"gridwidth\":2,\"linecolor\":\"white\",\"showbackground\":true,\"showgrid\":true,\"ticks\":\"\",\"zerolinecolor\":\"white\"},\"yaxis\":{\"backgroundcolor\":\"rgb(234,234,242)\",\"gridcolor\":\"white\",\"gridwidth\":2,\"linecolor\":\"white\",\"showbackground\":true,\"showgrid\":true,\"ticks\":\"\",\"zerolinecolor\":\"white\"},\"zaxis\":{\"backgroundcolor\":\"rgb(234,234,242)\",\"gridcolor\":\"white\",\"gridwidth\":2,\"linecolor\":\"white\",\"showbackground\":true,\"showgrid\":true,\"ticks\":\"\",\"zerolinecolor\":\"white\"}},\"shapedefaults\":{\"fillcolor\":\"rgb(67,103,167)\",\"line\":{\"width\":0},\"opacity\":0.5},\"ternary\":{\"aaxis\":{\"gridcolor\":\"white\",\"linecolor\":\"white\",\"showgrid\":true,\"ticks\":\"\"},\"baxis\":{\"gridcolor\":\"white\",\"linecolor\":\"white\",\"showgrid\":true,\"ticks\":\"\"},\"bgcolor\":\"rgb(234,234,242)\",\"caxis\":{\"gridcolor\":\"white\",\"linecolor\":\"white\",\"showgrid\":true,\"ticks\":\"\"}},\"xaxis\":{\"automargin\":true,\"gridcolor\":\"white\",\"linecolor\":\"white\",\"showgrid\":true,\"ticks\":\"\",\"title\":{\"standoff\":15},\"zerolinecolor\":\"white\"},\"yaxis\":{\"automargin\":true,\"gridcolor\":\"white\",\"linecolor\":\"white\",\"showgrid\":true,\"ticks\":\"\",\"title\":{\"standoff\":15},\"zerolinecolor\":\"white\"}}},\"xaxis\":{\"anchor\":\"y\",\"domain\":[0.0,1.0],\"title\":{\"text\":\"Year\"},\"tickfont\":{\"size\":12,\"color\":\"black\"},\"tickmode\":\"array\",\"tickangle\":-45,\"showgrid\":false,\"tickvals\":[\"1987/88\",\"1988/89\",\"1989/90\",\"1990/91\",\"1991/92\",\"1992/93\",\"1993/94\",\"1994/95\",\"1995/96\",\"1996/97\",\"1997/98\",\"1998/99\",\"1999/00\",\"2000/01\",\"2001/02\",\"2002/03\",\"2003/04\",\"2004/05\",\"2005/06\",\"2006/07\",\"2007/08\",\"2008/09\",\"2009/10\",\"2010/11\",\"2011/12\",\"2012/13\",\"2013/14\",\"2014/15\",\"2015/16\",\"2016/17\",\"2017/18\",\"2018/19\",\"2019/20\",\"2020/21\"],\"ticktext\":[\"1987/88\",\"1988/89\",\"1989/90\",\"1990/91\",\"1991/92\",\"1992/93\",\"1993/94\",\"1994/95\",\"1995/96\",\"1996/97\",\"1997/98\",\"1998/99\",\"1999/00\",\"2000/01\",\"2001/02\",\"2002/03\",\"2003/04\",\"2004/05\",\"2005/06\",\"2006/07\",\"2007/08\",\"2008/09\",\"2009/10\",\"2010/11\",\"2011/12\",\"2012/13\",\"2013/14\",\"2014/15\",\"2015/16\",\"2016/17\",\"2017/18\",\"2018/19\",\"2019/20\",\"2020/21\"],\"mirror\":false,\"rangeslider\":{\"visible\":true}},\"yaxis\":{\"anchor\":\"x\",\"domain\":[0.0,1.0],\"title\":{\"text\":\"Number of Beds Available\"},\"tickfont\":{\"size\":12,\"color\":\"black\"},\"mirror\":false,\"range\":[0,305000]},\"legend\":{\"tracegroupgap\":0},\"margin\":{\"t\":60},\"title\":{\"text\":\"<b>Number of Hospital Beds in England Over Time</b><br><sub>The number of hospital beds in England has more than halved over the past 30 years</sub>\",\"y\":0.97,\"yanchor\":\"top\"},\"font\":{\"size\":14},\"height\":700,\"hovermode\":\"x\"},                        {\"responsive\": true}                    ).then(function(){\n",
              "                            \n",
              "var gd = document.getElementById('aa0f30e7-8dda-46d0-97f9-d0aec33ec8bb');\n",
              "var x = new MutationObserver(function (mutations, observer) {{\n",
              "        var display = window.getComputedStyle(gd).display;\n",
              "        if (!display || display === 'none') {{\n",
              "            console.log([gd, 'removed!']);\n",
              "            Plotly.purge(gd);\n",
              "            observer.disconnect();\n",
              "        }}\n",
              "}});\n",
              "\n",
              "// Listen for the removal of the full notebook cells\n",
              "var notebookContainer = gd.closest('#notebook-container');\n",
              "if (notebookContainer) {{\n",
              "    x.observe(notebookContainer, {childList: true});\n",
              "}}\n",
              "\n",
              "// Listen for the clearing of the current output cell\n",
              "var outputEl = gd.closest('.output');\n",
              "if (outputEl) {{\n",
              "    x.observe(outputEl, {childList: true});\n",
              "}}\n",
              "\n",
              "                        })                };                            </script>        </div>\n",
              "</body>\n",
              "</html>"
            ]
          },
          "metadata": {}
        }
      ]
    },
    {
      "cell_type": "code",
      "source": [],
      "metadata": {
        "id": "OqRNc5CNxGnY"
      },
      "execution_count": 101,
      "outputs": []
    }
  ]
}